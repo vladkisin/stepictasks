{
 "cells": [
  {
   "cell_type": "code",
   "execution_count": 42,
   "metadata": {},
   "outputs": [
    {
     "name": "stdout",
     "output_type": "stream",
     "text": [
      "1 1 1\n",
      "1 1 1\n",
      "end\n",
      "4 4 4 \n",
      "4 4 4 \n"
     ]
    }
   ],
   "source": [
    "s = []   \n",
    "while True:\n",
    "    n = input() \n",
    "    if n == 'end':\n",
    "        break\n",
    "    else:\n",
    "        s.append([int(x) for x in n.split()])\n",
    "string = len(s)\n",
    "column = len(s[0])\n",
    "o = [[0 for x in range(column)] for y in range(string)]\n",
    "for i in range(string):\n",
    "    for j in range(column):\n",
    "        for di in range(-1,2):\n",
    "            for dj in range(-1,2):\n",
    "                if di != dj and -2 < (di - dj) < 2 and i+di < string and j+dj < column:\n",
    "                    o[i][j] += s[i+di][j+dj]\n",
    "                elif di != dj and -2 < (di - dj) < 2 and i+di < string and j+dj >= column:\n",
    "                    o[i][j] += s[i+di][j-column+dj]\n",
    "                elif di != dj and -2 < (di - dj) < 2 and i+di >= string and j+dj < column:\n",
    "                    o[i][j] += s[i-string+di][j+dj]\n",
    "                elif di != dj and -2 < (di - dj) < 2 and i+di >= string and j+dj >= column:\n",
    "                    o[i][j] += s[i-string+di][j-column+dj]\n",
    "for i in range(string):\n",
    "    for j in range(column):\n",
    "        print(o[i][j], end = ' ')\n",
    "    print()"
   ]
  },
  {
   "cell_type": "code",
   "execution_count": 55,
   "metadata": {},
   "outputs": [
    {
     "name": "stdout",
     "output_type": "stream",
     "text": [
      "78\n",
      "122333444455555666666777777788888888999999999101010101010101010101111111111111111111111121212121212121212121212"
     ]
    }
   ],
   "source": [
    "s = 0\n",
    "i = 0\n",
    "stop = int(input())\n",
    "pos = [[i]*i for i in range(1,100)]\n",
    "while s != stop:\n",
    "    j = 0\n",
    "    while j <= i:\n",
    "        print(pos[i][j], end = '')\n",
    "        j += 1\n",
    "        s += 1\n",
    "        if s == stop:\n",
    "            break\n",
    "    i += 1 \n"
   ]
  },
  {
   "cell_type": "code",
   "execution_count": 9,
   "metadata": {},
   "outputs": [
    {
     "name": "stdout",
     "output_type": "stream",
     "text": [
      "[1, 2, 3, 4]\n"
     ]
    }
   ],
   "source": [
    "    l = [1, 2, 3, 4, 5, 6, 7, 8]\n",
    "    i = 0\n",
    "    while True:\n",
    "        if l[i] % 2 == 0:\n",
    "            l[i] = l[i]//2\n",
    "            i += 1\n",
    "        else:\n",
    "            del l[i]\n",
    "        if i >= len(l):\n",
    "            break\n",
    "    print(l)"
   ]
  },
  {
   "cell_type": "code",
   "execution_count": 6,
   "metadata": {},
   "outputs": [
    {
     "ename": "IndentationError",
     "evalue": "expected an indented block (<ipython-input-6-16e9cd3f7572>, line 2)",
     "output_type": "error",
     "traceback": [
      "\u001b[1;36m  File \u001b[1;32m\"<ipython-input-6-16e9cd3f7572>\"\u001b[1;36m, line \u001b[1;32m2\u001b[0m\n\u001b[1;33m    s = inf.readline()\u001b[0m\n\u001b[1;37m    ^\u001b[0m\n\u001b[1;31mIndentationError\u001b[0m\u001b[1;31m:\u001b[0m expected an indented block\n"
     ]
    }
   ],
   "source": [
    "with open('dataset_3363_2.txt','r') as inf:\n",
    "s = inf.readline()\n",
    "print(s)\n",
    "o=''\n",
    "i = 1\n",
    "while i <= len(s)-1:\n",
    "    if i == len(s)-1:\n",
    "        o += s[i-1]*int(s[i])\n",
    "        i += 2\n",
    "    elif s[i+1] not in '0123456789':\n",
    "        o += s[i-1]*int(s[i])\n",
    "        i += 2\n",
    "    else:\n",
    "        o += s[i-1]*int(s[i]+s[i+1])\n",
    "        i += 3\n",
    "with open('dataset_3363_2.txt','w') as ouf:\n",
    "ouf.write(s)"
   ]
  },
  {
   "cell_type": "code",
   "execution_count": 8,
   "metadata": {},
   "outputs": [
    {
     "name": "stdout",
     "output_type": "stream",
     "text": [
      "Larkins;47;68;57 Fisher;85;37;85 Aldridge;76;43;95 Kennedy;44;93;31 Dowman;83;36;48 Reynolds;77;65;74 Oswald;82;77;84 Gardner;79;86;54 Campbell;46;69;90 Michaelson;33;58;29 Peacock;37;88;36 Adrian;98;46;46 Gill;96;55;83 Dyson;84;41;46 Russel;94;35;49 Howard;60;94;53 Wallace;51;67;97 Mason;65;63;59 Bishop;82;31;74 Saunder;79;96;34 Salomon;34;39;91 Charlson;89;45;54 Parson;32;68;47 Nathan;69;63;46 MacAdam;60;91;60 Oldman;38;33;72 Allford;36;91;68 Stanley;57;93;73 Boolman;96;82;42 Fane;55;59;28 Calhoun;69;47;64 Ward;47;95;37 Jeff;73;65;31 Gate;74;43;81 Hancock;84;75;77 Goodman;54;79;74 Little;36;32;98 Blare;66;80;89 Watson;69;95;57 Haig;74;89;62 Galbraith;48;73;72 Wesley;62;77;31 Babcock;30;56;34 Pearcy;47;60;57 Evans;95;42;92 Taft;50;29;26 Ellington;53;55;67 Blomfield;56;72;47 Carroll;38;70;88 Fleming;61;83;89 Clapton;96;58;89 Audley;41;58;50 Kendal;86;39;90 Vance;78;82;45 Hoggarth;95;78;54 Turner;28;86;25 Miln;25;90;67 Freeman;52;83;64 Leman;52;73;91 Oliver;50;88;58 Crossman;39;66;37 Eddington;44;71;67 Waller;39;66;100 Richards;76;70;77 Wood;69;73;43 Andrews;75;33;82 Finch;25;24;31 Fitzgerald;99;86;49 Samuels;36;76;37 Paterson;36;27;44 Chandter;78;95;77 Gimson;49;55;88 Croftoon;40;42;82 Miers;63;57;29 Peterson;57;29;45 Holiday;40;49;38 Oldridge;70;69;72 Lamberts;68;86;53 Bradberry;88;55;96 Harrison;93;49;85 Thomson;73;82;43 Gustman;78;38;41 Shorter;38;91;42 Davidson;83;88;28 Nyman;79;63;54 Bootman;78;48;70 Pass;46;72;92 Walter;60;55;69 Attwood;29;78;69 Chesterton;61;79;37 Fulton;40;59;34 Jones;73;86;48 Creighton;39;54;65 Holmes;82;67;41 Barrington;65;65;94 Barnes;81;29;99\n"
     ]
    },
    {
     "ename": "IndexError",
     "evalue": "list index out of range",
     "output_type": "error",
     "traceback": [
      "\u001b[1;31m---------------------------------------------------------------------------\u001b[0m",
      "\u001b[1;31mIndexError\u001b[0m                                Traceback (most recent call last)",
      "\u001b[1;32m<ipython-input-8-2b3c28095cb3>\u001b[0m in \u001b[0;36m<module>\u001b[1;34m()\u001b[0m\n\u001b[0;32m     12\u001b[0m     \u001b[0mnew\u001b[0m \u001b[1;33m=\u001b[0m \u001b[1;33m[\u001b[0m\u001b[0mint\u001b[0m\u001b[1;33m(\u001b[0m\u001b[0mi\u001b[0m\u001b[1;33m)\u001b[0m \u001b[1;32mfor\u001b[0m \u001b[0mi\u001b[0m \u001b[1;32min\u001b[0m \u001b[0ms\u001b[0m\u001b[1;33m[\u001b[0m\u001b[1;36m1\u001b[0m\u001b[1;33m:\u001b[0m\u001b[1;33m]\u001b[0m\u001b[1;33m]\u001b[0m\u001b[1;33m\u001b[0m\u001b[0m\n\u001b[0;32m     13\u001b[0m     \u001b[0mout\u001b[0m \u001b[1;33m+=\u001b[0m \u001b[0mnew\u001b[0m\u001b[1;33m\u001b[0m\u001b[0m\n\u001b[1;32m---> 14\u001b[1;33m     \u001b[0mmath\u001b[0m \u001b[1;33m+=\u001b[0m \u001b[0mint\u001b[0m\u001b[1;33m(\u001b[0m\u001b[0ms\u001b[0m\u001b[1;33m[\u001b[0m\u001b[1;36m1\u001b[0m\u001b[1;33m]\u001b[0m\u001b[1;33m)\u001b[0m\u001b[1;33m\u001b[0m\u001b[0m\n\u001b[0m\u001b[0;32m     15\u001b[0m     \u001b[0mphys\u001b[0m \u001b[1;33m+=\u001b[0m \u001b[0mint\u001b[0m\u001b[1;33m(\u001b[0m\u001b[0ms\u001b[0m\u001b[1;33m[\u001b[0m\u001b[1;36m2\u001b[0m\u001b[1;33m]\u001b[0m\u001b[1;33m)\u001b[0m\u001b[1;33m\u001b[0m\u001b[0m\n\u001b[0;32m     16\u001b[0m     \u001b[0mrus\u001b[0m \u001b[1;33m+=\u001b[0m \u001b[0mint\u001b[0m\u001b[1;33m(\u001b[0m\u001b[0ms\u001b[0m\u001b[1;33m[\u001b[0m\u001b[1;36m3\u001b[0m\u001b[1;33m]\u001b[0m\u001b[1;33m)\u001b[0m\u001b[1;33m\u001b[0m\u001b[0m\n",
      "\u001b[1;31mIndexError\u001b[0m: list index out of range"
     ]
    }
   ],
   "source": [
    "def mean(lis):\n",
    "    return(sum(lis)/len(lis))\n",
    "math = 0\n",
    "phys = 0\n",
    "rus = 0\n",
    "l = 0\n",
    "out=[]\n",
    "data = open(r'C:\\Users\\Lenovo\\dataset_3363_4.txt','r')\n",
    "while line != '':\n",
    "    s = data.readline.split(';')\n",
    "    out += mean([int(s[1]),int(s[2]),int(s[3])])\n",
    "    math += int(s[1])\n",
    "    phys += int(s[2])\n",
    "    rus += int(s[3])\n",
    "    l += 1\n",
    "for i in (len(out)-1):\n",
    "    dat.write(mean(out[i]), '\\n')\n",
    "dat.write(math/l, phys/l, rus/l)\n",
    "dat.close()\n",
    "    \n",
    "    "
   ]
  },
  {
   "cell_type": "code",
   "execution_count": 3,
   "metadata": {},
   "outputs": [
    {
     "data": {
      "text/plain": [
       "2.0"
      ]
     },
     "execution_count": 3,
     "metadata": {},
     "output_type": "execute_result"
    }
   ],
   "source": [
    "def mean(lis):\n",
    "    return(sum(lis)/len(lis))\n",
    "a = [1, 2, 3]\n",
    "mean(a)"
   ]
  },
  {
   "cell_type": "code",
   "execution_count": null,
   "metadata": {},
   "outputs": [],
   "source": [
    "n = int(input())\n",
    "dic = {}\n",
    "for i in range(n):\n",
    "    s = str(input()).split(';')\n",
    "    if s[1] > s[3]:\n",
    "        if s[0] not in dic.keys():\n",
    "            dic[s[0]] = [1, 1, 0, 0, 3]\n",
    "        else:\n",
    "            dic[s[0]][0] += 1\n",
    "            dic[s[0]][1] += 1\n",
    "            dic[s[0]][4] += 3\n",
    "        if s[2] not in dic.keys():\n",
    "            dic[s[2]] = [1, 0, 0, 1, 0]\n",
    "        else:\n",
    "            dic[s[2]][0] += 1\n",
    "            dic[s[2]][3] += 1\n",
    "    elif s[1] == s[3]:\n",
    "        if s[0] not in dic.keys():\n",
    "            dic[s[0]] = [1, 0, 1, 0, 1]\n",
    "        else:\n",
    "            dic[s[0]][0] += 1\n",
    "            dic[s[0]][2] += 1\n",
    "            dic[s[0]][4] += 1\n",
    "        if s[2] not in dic.keys():\n",
    "            dic[s[2]] = [1, 0, 1, 0, 1]\n",
    "        else:\n",
    "            dic[s[2]][0] += 1\n",
    "            dic[s[2]][2] += 1\n",
    "            dic[s[2]][4] += 1\n",
    "    else:\n",
    "        if s[0] not in dic.keys():\n",
    "            dic[s[0]] = [1, 0, 0, 1, 0]\n",
    "        else:\n",
    "            dic[s[0]][0] += 1\n",
    "            dic[s[0]][3] += 1\n",
    "        if s[2] not in dic.keys():\n",
    "            dic[s[2]] = [1, 1, 0, 0, 3]\n",
    "        else:\n",
    "            dic[s[2]][0] += 1\n",
    "            dic[s[2]][1] += 1\n",
    "            dic[s[2]][4] += 3\n",
    "for key in dic.keys():\n",
    "    print(key,end='')\n",
    "    print(':')\n",
    "    for i in range(len(dic[key])):\n",
    "        print(dic[key][i], end = ' ')\n",
    "    print()\n",
    "\n",
    "            \n",
    "            "
   ]
  },
  {
   "cell_type": "code",
   "execution_count": 3,
   "metadata": {},
   "outputs": [
    {
     "name": "stdout",
     "output_type": "stream",
     "text": [
      "{'ЦСКА': [2, 0, 1, 1, 1], 'Зенит': [2, 2, 0, 0, 6], 'Спартак': [2, 0, 1, 1, 1]}\n"
     ]
    }
   ],
   "source": []
  },
  {
   "cell_type": "code",
   "execution_count": 10,
   "metadata": {},
   "outputs": [
    {
     "name": "stdout",
     "output_type": "stream",
     "text": [
      "7\n",
      "9\n"
     ]
    }
   ],
   "source": [
    "def closest_mod_5(x):\n",
    "    if x % 5 == 0:\n",
    "        return int(x)\n",
    "    else:\n",
    "        \n",
    "            a = x%5\n",
    "            y = x-a+5\n",
    "            return(y)\n",
    "a = int(input())\n",
    "print(closest_mod_5(a))\n"
   ]
  },
  {
   "cell_type": "code",
   "execution_count": null,
   "metadata": {},
   "outputs": [
    {
     "name": "stdout",
     "output_type": "stream",
     "text": [
      "222\n",
      "22\n",
      "2\n",
      "2\n",
      "2\n",
      "2\n",
      "get.var\n",
      "be\n"
     ]
    }
   ],
   "source": [
    "#namespace constructor\n",
    "def get_key(d, value):\n",
    "    for k, v in d.items():\n",
    "        if v == value:\n",
    "            return k\n",
    "def get_var(namespace, v, var, names): \n",
    "        if v in var[namespace]:\n",
    "            return namespace\n",
    "        else:\n",
    "            for i in names.values():\n",
    "                if namespace in i:\n",
    "                    new_namespace = get_key(names, i)\n",
    "                    if new_namespace == 'None':\n",
    "                        return 'None'\n",
    "                    else:\n",
    "                        return get_var(new_namespace, v, var, names)\n",
    "n = int(input())\n",
    "names={'None': 'global'}\n",
    "var = {'global': []}\n",
    "for i in range(n):\n",
    "    s = input().split(' ')\n",
    "    if s[0] == 'create':\n",
    "        if s[2] in names.keys():\n",
    "            names[s[2]].append(s[1])\n",
    "            var[s[1]] = []\n",
    "        else:\n",
    "            names[s[2]] = [s[1]]\n",
    "            var[s[1]] = []\n",
    "    elif s[0] == 'add':\n",
    "        var[s[1]].append(s[2])\n",
    "    elif s[0] == 'get':\n",
    "        print(get_var(s[1], s[2], var, names))\n",
    "        \n",
    "        \n",
    "        "
   ]
  },
  {
   "cell_type": "code",
   "execution_count": 4,
   "metadata": {},
   "outputs": [
    {
     "name": "stdout",
     "output_type": "stream",
     "text": [
      "bbb\n"
     ]
    },
    {
     "ename": "ValueError",
     "evalue": "invalid literal for int() with base 10: 'bbb'",
     "output_type": "error",
     "traceback": [
      "\u001b[1;31m---------------------------------------------------------------------------\u001b[0m",
      "\u001b[1;31mValueError\u001b[0m                                Traceback (most recent call last)",
      "\u001b[1;32m<ipython-input-4-02ac76047e12>\u001b[0m in \u001b[0;36m<module>\u001b[1;34m\u001b[0m\n\u001b[0;32m     13\u001b[0m     \u001b[1;32mexcept\u001b[0m \u001b[0mKeyError\u001b[0m\u001b[1;33m:\u001b[0m\u001b[1;33m\u001b[0m\u001b[1;33m\u001b[0m\u001b[0m\n\u001b[0;32m     14\u001b[0m         \u001b[1;32mreturn\u001b[0m \u001b[1;32mNone\u001b[0m\u001b[1;33m\u001b[0m\u001b[1;33m\u001b[0m\u001b[0m\n\u001b[1;32m---> 15\u001b[1;33m \u001b[0mn\u001b[0m \u001b[1;33m=\u001b[0m \u001b[0mint\u001b[0m\u001b[1;33m(\u001b[0m\u001b[0minput\u001b[0m\u001b[1;33m(\u001b[0m\u001b[1;33m)\u001b[0m\u001b[1;33m)\u001b[0m\u001b[1;33m\u001b[0m\u001b[1;33m\u001b[0m\u001b[0m\n\u001b[0m\u001b[0;32m     16\u001b[0m \u001b[0mdic\u001b[0m \u001b[1;33m=\u001b[0m \u001b[1;33m{\u001b[0m\u001b[1;33m}\u001b[0m\u001b[1;33m\u001b[0m\u001b[1;33m\u001b[0m\u001b[0m\n\u001b[0;32m     17\u001b[0m \u001b[1;32mfor\u001b[0m \u001b[0mi\u001b[0m \u001b[1;32min\u001b[0m \u001b[0mrange\u001b[0m\u001b[1;33m(\u001b[0m\u001b[0mn\u001b[0m\u001b[1;33m)\u001b[0m\u001b[1;33m:\u001b[0m\u001b[1;33m\u001b[0m\u001b[1;33m\u001b[0m\u001b[0m\n",
      "\u001b[1;31mValueError\u001b[0m: invalid literal for int() with base 10: 'bbb'"
     ]
    }
   ],
   "source": [
    "def find_path (start, end, graph, deque = []):\n",
    "    try:\n",
    "        deque = graph[start]\n",
    "        if end in deque or (start == end and start in graph.keys()):\n",
    "            return True\n",
    "        elif deque == []:\n",
    "            return None\n",
    "        for i in deque:\n",
    "            if end in graph[i]:\n",
    "                return True\n",
    "            if find_path (i, end, graph):\n",
    "                return find_path (i, end, graph)\n",
    "    except KeyError:\n",
    "        return None\n",
    "n = int(input())\n",
    "dic = {}\n",
    "for i in range(n):\n",
    "    s= input().split(' ')\n",
    "    if len(s) > 1:\n",
    "        if s[0] not in dic.keys():\n",
    "            dic[s[0]]= []\n",
    "        for j in range(2,len(s)):\n",
    "            dic[s[0]].append(s[j])\n",
    "    else:\n",
    "         if s[0] not in dic.keys():\n",
    "            dic[s[0]]= []\n",
    "nu =  int(input())\n",
    "for i in range(nu):\n",
    "    m = input().split(' ')\n",
    "    if find_path (m[1], m[0], dic):\n",
    "        print('Yes')\n",
    "    else:\n",
    "        print('No')"
   ]
  },
  {
   "cell_type": "code",
   "execution_count": 6,
   "metadata": {},
   "outputs": [
    {
     "name": "stdout",
     "output_type": "stream",
     "text": [
      "2016 4 20\n",
      "14\n",
      "2016 5 4\n"
     ]
    }
   ],
   "source": [
    "import datetime\n",
    "s = input().split(' ')\n",
    "d = datetime.date(int(s[0]), int(s[1]), int(s[2]))\n",
    "t = int(input())\n",
    "de = datetime.timedelta(days = t)\n",
    "d += de\n",
    "print(d.year, d.month, d.day)\n",
    "\n"
   ]
  },
  {
   "cell_type": "code",
   "execution_count": null,
   "metadata": {},
   "outputs": [],
   "source": [
    "\n"
   ]
  },
  {
   "cell_type": "code",
   "execution_count": null,
   "metadata": {},
   "outputs": [],
   "source": [
    "# put your python code here\n",
    "def find_path (start, end, graph, deque = []):\n",
    "    try:\n",
    "        deque = graph[start]\n",
    "        if end in deque or (start == end and start in graph.keys()):\n",
    "            return True\n",
    "        elif deque == []:\n",
    "            return None\n",
    "        for i in deque:\n",
    "            if end in graph[i]:\n",
    "                return True\n",
    "            if find_path (i, end, graph):\n",
    "                return True\n",
    "    except KeyError:\n",
    "        return None\n",
    "n = input()\n",
    "dic = {}\n",
    "kall = []\n",
    "out = []\n",
    "for i in n:\n",
    "    s = i.split(' ')\n",
    "    if len(s) > 1:\n",
    "        if s[0] not in dic.keys():\n",
    "            dic[s[0]]= []\n",
    "        for j in range(2,len(s)):\n",
    "            dic[s[0]].append(s[j])\n",
    "test = input()\n",
    "for j in test:\n",
    "    exc = j.split(', ')\n",
    "    for bef in kall:\n",
    "        if find_path(exc, bef, dic):\n",
    "            out.append(exc)\n",
    "        else:\n",
    "            kall.append(exc)\n",
    "out = set(out)\n",
    "for item in out:\n",
    "    print(item)"
   ]
  },
  {
   "cell_type": "code",
   "execution_count": 1,
   "metadata": {},
   "outputs": [
    {
     "name": "stdout",
     "output_type": "stream",
     "text": [
      "[0, 2, 3, 4, 5, 6, 8, 9, 10, 12, 14, 15, 16, 18, 20, 21, 22, 24, 25, 26, 27, 28, 30]\n",
      "[0, 6, 10, 12, 15, 18, 20, 24, 30]\n",
      "[0, 30]\n"
     ]
    }
   ],
   "source": [
    "class multifilter:\n",
    "    def judge_half(pos, neg):\n",
    "        if pos >= neg:\n",
    "            return True\n",
    "    # допускает элемент, если его допускает хотя бы половина фукнций (pos >= neg)\n",
    "\n",
    "    def judge_any(pos, neg):\n",
    "         if pos >= 1:\n",
    "                return True\n",
    "    # допускает элемент, если его допускает хотя бы одна функция (pos >= 1)\n",
    "\n",
    "    def judge_all(pos, neg):\n",
    "         if neg == 0:\n",
    "                return True\n",
    "    # допускает элемент, если его допускают все функции (neg == 0)\n",
    "\n",
    "    def __init__(self, iterable, *funcs, judge=judge_any):\n",
    "         self.iterable = iterable\n",
    "         self.funcs = funcs\n",
    "         self.judge = judge\n",
    "    # iterable - исходная последовательность\n",
    "    # funcs - допускающие функции\n",
    "    # judge - решающая функция\n",
    "\n",
    "    def __iter__(self):\n",
    "        for i in self.iterable:\n",
    "            pos = 0\n",
    "            neg = 0\n",
    "            for f in self.funcs:\n",
    "                if f(i):\n",
    "                    pos += 1\n",
    "                else:\n",
    "                    neg += 1\n",
    "            if self.judge(pos,neg):\n",
    "                yield i\n",
    "def mul2(x):\n",
    "    return x % 2 == 0\n",
    "\n",
    "def mul3(x):\n",
    "    return x % 3 == 0\n",
    "\n",
    "def mul5(x):\n",
    "    return x % 5 == 0\n",
    "\n",
    "\n",
    "a = [i for i in range(31)] # [0, 1, 2, ... , 30]\n",
    "\n",
    "print(list(multifilter(a, mul2, mul3, mul5))) \n",
    "# [0, 2, 3, 4, 5, 6, 8, 9, 10, 12, 14, 15, 16, 18, 20, 21, 22, 24, 25, 26, 27, 28, 30]\n",
    "\n",
    "print(list(multifilter(a, mul2, mul3, mul5, judge=multifilter.judge_half))) \n",
    "# [0, 6, 10, 12, 15, 18, 20, 24, 30]\n",
    "\n",
    "print(list(multifilter(a, mul2, mul3, mul5, judge=multifilter.judge_all))) \n",
    "# [0, 30]"
   ]
  },
  {
   "cell_type": "code",
   "execution_count": null,
   "metadata": {},
   "outputs": [],
   "source": []
  }
 ],
 "metadata": {
  "celltoolbar": "Raw Cell Format",
  "kernelspec": {
   "display_name": "Python 3",
   "language": "python",
   "name": "python3"
  },
  "language_info": {
   "codemirror_mode": {
    "name": "ipython",
    "version": 3
   },
   "file_extension": ".py",
   "mimetype": "text/x-python",
   "name": "python",
   "nbconvert_exporter": "python",
   "pygments_lexer": "ipython3",
   "version": "3.7.1"
  }
 },
 "nbformat": 4,
 "nbformat_minor": 2
}
